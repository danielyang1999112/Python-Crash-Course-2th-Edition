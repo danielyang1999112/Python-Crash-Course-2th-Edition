{
 "cells": [
  {
   "cell_type": "markdown",
   "id": "2ee2f76b",
   "metadata": {},
   "source": [
    "# *Python Crash Course 2nd Edition*"
   ]
  },
  {
   "cell_type": "markdown",
   "id": "e507686f",
   "metadata": {},
   "source": [
    "## ch.2 变量和简单数据类型"
   ]
  },
  {
   "cell_type": "code",
   "execution_count": 1,
   "id": "391a4de7",
   "metadata": {},
   "outputs": [
    {
     "name": "stdout",
     "output_type": "stream",
     "text": [
      "Hello!\n",
      "asdasd!\n"
     ]
    }
   ],
   "source": [
    "# Variable\n",
    "message = 'Hello!'\n",
    "print(message)\n",
    "message = 'asdasd!'\n",
    "print(message)"
   ]
  },
  {
   "cell_type": "code",
   "execution_count": 2,
   "id": "7dd4a374",
   "metadata": {},
   "outputs": [
    {
     "name": "stdout",
     "output_type": "stream",
     "text": [
      "Counter Strike\n",
      "COUNTER STRIKE\n",
      "counter strike\n"
     ]
    }
   ],
   "source": [
    "# String\n",
    "name = 'counTER strike'\n",
    "print(name.title())\n",
    "print(name.upper())\n",
    "print(name.lower())"
   ]
  },
  {
   "cell_type": "code",
   "execution_count": 3,
   "id": "9122094c",
   "metadata": {},
   "outputs": [
    {
     "name": "stdout",
     "output_type": "stream",
     "text": [
      "Daniel Yang\n",
      "Daniel Yang\n"
     ]
    }
   ],
   "source": [
    "# f-string (f: format)\n",
    "first_name = 'Daniel'\n",
    "last_name = 'Yang'\n",
    "full_name = f'{first_name} {last_name}'\n",
    "\n",
    "print(full_name)\n",
    "print('{} {}'.format(first_name, last_name))"
   ]
  },
  {
   "cell_type": "code",
   "execution_count": 4,
   "id": "24af0808",
   "metadata": {},
   "outputs": [
    {
     "name": "stdout",
     "output_type": "stream",
     "text": [
      "Languages:\n",
      "C++\n",
      "\tJava\n",
      "Python\n",
      "\tSQL\n"
     ]
    }
   ],
   "source": [
    "# \\n \\t\n",
    "print('Languages:\\nC++\\n\\tJava\\nPython\\n\\tSQL')"
   ]
  },
  {
   "cell_type": "code",
   "execution_count": 5,
   "id": "ef22a822",
   "metadata": {},
   "outputs": [
    {
     "name": "stdout",
     "output_type": "stream",
     "text": [
      "10\n",
      "7\n",
      "9\n"
     ]
    }
   ],
   "source": [
    "# .rstrip() .lstrip()\n",
    "asd = ' ASD AS   '\n",
    "print(len(asd))\n",
    "print(len(asd.rstrip()))\n",
    "print(len(asd.lstrip()))"
   ]
  },
  {
   "cell_type": "code",
   "execution_count": 6,
   "id": "f2a68f38",
   "metadata": {},
   "outputs": [
    {
     "name": "stdout",
     "output_type": "stream",
     "text": [
      "140000000000\n"
     ]
    }
   ],
   "source": [
    "# integer & float + - * / ** // %\n",
    "# large number\n",
    "universe_age = 140_000_000_000\n",
    "print(universe_age)"
   ]
  },
  {
   "cell_type": "code",
   "execution_count": 7,
   "id": "545c9aae",
   "metadata": {},
   "outputs": [
    {
     "name": "stdout",
     "output_type": "stream",
     "text": [
      "0\n"
     ]
    }
   ],
   "source": [
    "x, y, z = 1, 2, 3\n",
    "print(x+y-z)"
   ]
  },
  {
   "cell_type": "code",
   "execution_count": 8,
   "id": "b59bee88",
   "metadata": {
    "scrolled": true
   },
   "outputs": [
    {
     "name": "stdout",
     "output_type": "stream",
     "text": [
      "The Zen of Python, by Tim Peters\n",
      "\n",
      "Beautiful is better than ugly.\n",
      "Explicit is better than implicit.\n",
      "Simple is better than complex.\n",
      "Complex is better than complicated.\n",
      "Flat is better than nested.\n",
      "Sparse is better than dense.\n",
      "Readability counts.\n",
      "Special cases aren't special enough to break the rules.\n",
      "Although practicality beats purity.\n",
      "Errors should never pass silently.\n",
      "Unless explicitly silenced.\n",
      "In the face of ambiguity, refuse the temptation to guess.\n",
      "There should be one-- and preferably only one --obvious way to do it.\n",
      "Although that way may not be obvious at first unless you're Dutch.\n",
      "Now is better than never.\n",
      "Although never is often better than *right* now.\n",
      "If the implementation is hard to explain, it's a bad idea.\n",
      "If the implementation is easy to explain, it may be a good idea.\n",
      "Namespaces are one honking great idea -- let's do more of those!\n"
     ]
    }
   ],
   "source": [
    "# Zen of Python\n",
    "import this"
   ]
  },
  {
   "cell_type": "markdown",
   "id": "d87de470",
   "metadata": {},
   "source": [
    "## ch.3 列表简介"
   ]
  },
  {
   "cell_type": "code",
   "execution_count": null,
   "id": "4ea2566c",
   "metadata": {},
   "outputs": [],
   "source": [
    "# 6.26"
   ]
  },
  {
   "cell_type": "code",
   "execution_count": 17,
   "id": "0e37d621",
   "metadata": {},
   "outputs": [
    {
     "name": "stdout",
     "output_type": "stream",
     "text": [
      "['csgo', 'r6', 'battlefield2042', 'l4d2', 'forza5']\n",
      "Battlefield2042\n",
      "['l4d2', 'forza5']\n"
     ]
    }
   ],
   "source": [
    "# List (index starts from 0)\n",
    "steam_lib = ['csgo', 'r6', 'battlefield2042', 'l4d2', 'forza5']\n",
    "print(steam_lib)\n",
    "print(steam_lib[2].title())\n",
    "print(steam_lib[3:])"
   ]
  },
  {
   "cell_type": "code",
   "execution_count": 21,
   "id": "dd78ed1f",
   "metadata": {},
   "outputs": [
    {
     "name": "stdout",
     "output_type": "stream",
     "text": [
      "Your Steam wishlist has items: Battlefield2042, Forza5.\n"
     ]
    }
   ],
   "source": [
    "print(f'Your Steam wishlist has items: {steam_lib[2].title()}, {steam_lib[4].title()}.')"
   ]
  },
  {
   "cell_type": "code",
   "execution_count": 22,
   "id": "e77fcbe2",
   "metadata": {},
   "outputs": [
    {
     "name": "stdout",
     "output_type": "stream",
     "text": [
      "['csgo', 'r6', 'battlefield2042', 'l4d2', 'forza5', 'dota2']\n"
     ]
    }
   ],
   "source": [
    "# .append() .insert() .pop() del .remove()\n",
    "steam_lib = ['csgo', 'r6', 'battlefield2042', 'l4d2', 'forza5']\n",
    "steam_lib.append('dota2')\n",
    "print(steam_lib)"
   ]
  },
  {
   "cell_type": "code",
   "execution_count": 23,
   "id": "be2559a6",
   "metadata": {},
   "outputs": [
    {
     "name": "stdout",
     "output_type": "stream",
     "text": [
      "['csgo', 'r6', 'battlefield2042', 'l4d2', 'dota2']\n"
     ]
    }
   ],
   "source": [
    "steam_lib = ['csgo', 'r6', 'battlefield2042', 'l4d2', 'forza5']\n",
    "steam_lib[-1] = 'dota2'\n",
    "print(steam_lib)"
   ]
  },
  {
   "cell_type": "code",
   "execution_count": 24,
   "id": "58c92034",
   "metadata": {},
   "outputs": [
    {
     "name": "stdout",
     "output_type": "stream",
     "text": [
      "['csgo', 'r6', 'battlefield2042', 'dota2', 'l4d2', 'forza5']\n"
     ]
    }
   ],
   "source": [
    "steam_lib = ['csgo', 'r6', 'battlefield2042', 'l4d2', 'forza5']\n",
    "steam_lib.insert(3, 'dota2')\n",
    "print(steam_lib)"
   ]
  },
  {
   "cell_type": "code",
   "execution_count": 25,
   "id": "db129488",
   "metadata": {},
   "outputs": [
    {
     "name": "stdout",
     "output_type": "stream",
     "text": [
      "['csgo', 'r6', 'battlefield2042', 'l4d2']\n",
      "['csgo', 'r6', 'battlefield2042']\n"
     ]
    }
   ],
   "source": [
    "steam_lib = ['csgo', 'r6', 'battlefield2042', 'l4d2', 'forza5']\n",
    "steam_lib.pop()\n",
    "print(steam_lib)\n",
    "steam_lib.pop()\n",
    "print(steam_lib)"
   ]
  },
  {
   "cell_type": "code",
   "execution_count": 31,
   "id": "60805a09",
   "metadata": {},
   "outputs": [
    {
     "name": "stdout",
     "output_type": "stream",
     "text": [
      "['csgo', 'r6', 'battlefield2042', 'forza5']\n",
      "['csgo', 'battlefield2042', 'forza5']\n"
     ]
    }
   ],
   "source": [
    "steam_lib = ['csgo', 'r6', 'battlefield2042', 'l4d2', 'forza5']\n",
    "steam_lib.pop(3)\n",
    "print(steam_lib)\n",
    "\n",
    "del steam_lib[1]\n",
    "print(steam_lib)"
   ]
  },
  {
   "cell_type": "code",
   "execution_count": 35,
   "id": "9a393240",
   "metadata": {},
   "outputs": [
    {
     "name": "stdout",
     "output_type": "stream",
     "text": [
      "['csgo', 'csgo', 'r6', 'battlefield2042', 'l4d2', 'forza5']\n",
      "['csgo', 'r6', 'battlefield2042', 'l4d2', 'forza5']\n",
      "['r6', 'battlefield2042', 'l4d2', 'forza5']\n"
     ]
    }
   ],
   "source": [
    "steam_lib = ['csgo', 'csgo', 'csgo', 'r6', 'battlefield2042', 'l4d2', 'forza5']\n",
    "steam_lib.remove('csgo')\n",
    "print(steam_lib)\n",
    "steam_lib.remove('csgo')\n",
    "print(steam_lib)\n",
    "steam_lib.remove('csgo')\n",
    "print(steam_lib)"
   ]
  },
  {
   "cell_type": "code",
   "execution_count": 42,
   "id": "906d0656",
   "metadata": {},
   "outputs": [
    {
     "name": "stdout",
     "output_type": "stream",
     "text": [
      "['battlefield2042', 'csgo', 'forza5', 'l4d2', 'r6']\n",
      "['r6', 'l4d2', 'forza5', 'csgo', 'battlefield2042']\n"
     ]
    }
   ],
   "source": [
    "# .sort() permanent\n",
    "steam_lib = ['csgo', 'r6', 'battlefield2042', 'l4d2', 'forza5']\n",
    "steam_lib.sort()\n",
    "print(steam_lib)\n",
    "steam_lib.sort(reverse=True)\n",
    "print(steam_lib)"
   ]
  },
  {
   "cell_type": "code",
   "execution_count": 46,
   "id": "c41a941e",
   "metadata": {},
   "outputs": [
    {
     "name": "stdout",
     "output_type": "stream",
     "text": [
      "['battlefield2042', 'csgo', 'forza5', 'l4d2', 'r6']\n",
      "['r6', 'l4d2', 'forza5', 'csgo', 'battlefield2042']\n",
      "['csgo', 'r6', 'battlefield2042', 'l4d2', 'forza5']\n"
     ]
    }
   ],
   "source": [
    "# sorted() temporary\n",
    "steam_lib = ['csgo', 'r6', 'battlefield2042', 'l4d2', 'forza5']\n",
    "print(sorted(steam_lib))\n",
    "print(sorted(steam_lib, reverse=True))\n",
    "print(steam_lib)"
   ]
  },
  {
   "cell_type": "code",
   "execution_count": 50,
   "id": "af0408d3",
   "metadata": {},
   "outputs": [
    {
     "name": "stdout",
     "output_type": "stream",
     "text": [
      "['forza5', 'l4d2', 'battlefield2042', 'r6', 'csgo']\n",
      "['csgo', 'r6', 'battlefield2042', 'l4d2', 'forza5']\n",
      "5\n"
     ]
    }
   ],
   "source": [
    "# .reverse() len()\n",
    "steam_lib = ['csgo', 'r6', 'battlefield2042', 'l4d2', 'forza5']\n",
    "steam_lib.reverse()\n",
    "print(steam_lib)\n",
    "steam_lib.reverse()\n",
    "print(steam_lib)\n",
    "\n",
    "print(len(steam_lib))"
   ]
  }
 ],
 "metadata": {
  "kernelspec": {
   "display_name": "Python 3",
   "language": "python",
   "name": "python3"
  },
  "language_info": {
   "codemirror_mode": {
    "name": "ipython",
    "version": 3
   },
   "file_extension": ".py",
   "mimetype": "text/x-python",
   "name": "python",
   "nbconvert_exporter": "python",
   "pygments_lexer": "ipython3",
   "version": "3.7.2"
  }
 },
 "nbformat": 4,
 "nbformat_minor": 5
}
