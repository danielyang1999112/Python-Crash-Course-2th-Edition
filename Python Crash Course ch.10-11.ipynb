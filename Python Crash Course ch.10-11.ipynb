{
 "cells": [
  {
   "cell_type": "markdown",
   "id": "2ee2f76b",
   "metadata": {},
   "source": [
    "# *Python Crash Course 2nd Edition*"
   ]
  },
  {
   "cell_type": "markdown",
   "id": "e507686f",
   "metadata": {},
   "source": [
    "## ch.10 文件和异常"
   ]
  },
  {
   "cell_type": "code",
   "execution_count": 1,
   "id": "e5579ef4",
   "metadata": {},
   "outputs": [
    {
     "name": "stdout",
     "output_type": "stream",
     "text": [
      "3.1415926535 \n",
      "  8979323846 \n",
      "  2643383279\n",
      "\n"
     ]
    }
   ],
   "source": [
    "# C:\\Users\\yh199\\Desktop\\py practice\\python crash course code\\chapter_10\n",
    "\n",
    "# read the whole file\n",
    "with open('python crash course code/chapter_10/pi_digits.txt') as file_object:\n",
    "    contents = file_object.read()\n",
    "print(contents)"
   ]
  },
  {
   "cell_type": "code",
   "execution_count": 2,
   "id": "292df9f0",
   "metadata": {},
   "outputs": [
    {
     "name": "stdout",
     "output_type": "stream",
     "text": [
      "3.1415926535 \n",
      "  8979323846 \n",
      "  2643383279\n"
     ]
    }
   ],
   "source": [
    "print(contents.rstrip())"
   ]
  },
  {
   "cell_type": "code",
   "execution_count": 3,
   "id": "450ff779",
   "metadata": {},
   "outputs": [
    {
     "name": "stdout",
     "output_type": "stream",
     "text": [
      "3.1415926535 \n",
      "\n",
      "  8979323846 \n",
      "\n",
      "  2643383279\n",
      "\n"
     ]
    }
   ],
   "source": [
    "with open('python crash course code/chapter_10/pi_digits.txt') as file_object:\n",
    "    for line in file_object:\n",
    "        print(line)"
   ]
  },
  {
   "cell_type": "code",
   "execution_count": 4,
   "id": "cf2328b8",
   "metadata": {},
   "outputs": [
    {
     "name": "stdout",
     "output_type": "stream",
     "text": [
      "3.1415926535\n",
      "  8979323846\n",
      "  2643383279\n"
     ]
    }
   ],
   "source": [
    "with open('python crash course code/chapter_10/pi_digits.txt') as file_object:\n",
    "    for line in file_object:\n",
    "        print(line.rstrip())"
   ]
  },
  {
   "cell_type": "code",
   "execution_count": 5,
   "id": "1556e9f7",
   "metadata": {},
   "outputs": [
    {
     "name": "stdout",
     "output_type": "stream",
     "text": [
      "3.1415926535\n",
      "  8979323846\n",
      "  2643383279\n"
     ]
    }
   ],
   "source": [
    "file_name = 'python crash course code/chapter_10/pi_digits.txt'\n",
    "with open(file_name) as file_object:\n",
    "    lines = file_object.readlines()\n",
    "    \n",
    "for line in lines:\n",
    "    print(line.rstrip())"
   ]
  },
  {
   "cell_type": "code",
   "execution_count": 6,
   "id": "99c2cb27",
   "metadata": {},
   "outputs": [
    {
     "name": "stdout",
     "output_type": "stream",
     "text": [
      "3.1415926535  8979323846  2643383279\n",
      "36\n"
     ]
    }
   ],
   "source": [
    "file_name = 'python crash course code/chapter_10/pi_digits.txt'\n",
    "with open(file_name) as file_object:\n",
    "    lines = file_object.readlines()\n",
    "\n",
    "pi_string = ''\n",
    "for line in lines:\n",
    "    pi_string += line.rstrip()\n",
    "    \n",
    "print(pi_string)\n",
    "print(len(pi_string))"
   ]
  },
  {
   "cell_type": "code",
   "execution_count": 7,
   "id": "ead48205",
   "metadata": {},
   "outputs": [
    {
     "name": "stdout",
     "output_type": "stream",
     "text": [
      "3.141592653589793238462643383279\n",
      "32\n"
     ]
    }
   ],
   "source": [
    "# .strip()\n",
    "file_name = 'python crash course code/chapter_10/pi_digits.txt'\n",
    "with open(file_name) as file_object:\n",
    "    lines = file_object.readlines()\n",
    "\n",
    "pi_string = ''\n",
    "for line in lines:\n",
    "    pi_string += line.strip()\n",
    "    \n",
    "print(pi_string)\n",
    "print(len(pi_string))"
   ]
  },
  {
   "cell_type": "code",
   "execution_count": 8,
   "id": "2274a863",
   "metadata": {},
   "outputs": [
    {
     "name": "stdout",
     "output_type": "stream",
     "text": [
      "3.14159265358979323846264338327950288419716939937510...\n",
      "1000002\n"
     ]
    }
   ],
   "source": [
    "# 1 million digits Pi\n",
    "file_name = 'python crash course code/chapter_10/pi_million_digits.txt'\n",
    "with open(file_name) as file_object:\n",
    "    lines = file_object.readlines()\n",
    "\n",
    "pi_string = ''\n",
    "for line in lines:\n",
    "    pi_string += line.strip()\n",
    "\n",
    "print(f'{pi_string[:52]}...')\n",
    "print(len(pi_string))"
   ]
  },
  {
   "cell_type": "code",
   "execution_count": 9,
   "id": "9377d104",
   "metadata": {},
   "outputs": [
    {
     "name": "stdout",
     "output_type": "stream",
     "text": [
      "\n"
     ]
    }
   ],
   "source": [
    "# write file 'w'\n",
    "# add to file 'a'\n",
    "'''\n",
    "with open(filename, 'w') as file_object:\n",
    "    file_object.write('Hello!')\n",
    "    file_object.write('Hellaaaa!')\n",
    "    \n",
    "with open(filename, 'a') as file_object:\n",
    "    file_object.write('Good to see you.')\n",
    "'''\n",
    "print('')"
   ]
  },
  {
   "cell_type": "code",
   "execution_count": 10,
   "id": "481b5b32",
   "metadata": {},
   "outputs": [
    {
     "ename": "ZeroDivisionError",
     "evalue": "division by zero",
     "output_type": "error",
     "traceback": [
      "\u001b[1;31m---------------------------------------------------------------------------\u001b[0m",
      "\u001b[1;31mZeroDivisionError\u001b[0m                         Traceback (most recent call last)",
      "\u001b[1;32m<ipython-input-10-9e5cacbe6fe2>\u001b[0m in \u001b[0;36m<module>\u001b[1;34m\u001b[0m\n\u001b[0;32m      1\u001b[0m \u001b[1;31m# Try Except Else\u001b[0m\u001b[1;33m\u001b[0m\u001b[1;33m\u001b[0m\u001b[1;33m\u001b[0m\u001b[0m\n\u001b[1;32m----> 2\u001b[1;33m \u001b[0mprint\u001b[0m\u001b[1;33m(\u001b[0m\u001b[1;36m5\u001b[0m\u001b[1;33m/\u001b[0m\u001b[1;36m0\u001b[0m\u001b[1;33m)\u001b[0m\u001b[1;33m\u001b[0m\u001b[1;33m\u001b[0m\u001b[0m\n\u001b[0m",
      "\u001b[1;31mZeroDivisionError\u001b[0m: division by zero"
     ]
    }
   ],
   "source": [
    "# Try Except Else\n",
    "print(5/0)"
   ]
  },
  {
   "cell_type": "code",
   "execution_count": 11,
   "id": "81cb19ce",
   "metadata": {},
   "outputs": [
    {
     "name": "stdout",
     "output_type": "stream",
     "text": [
      "Bruh, it cannot be divided by zero!\n"
     ]
    }
   ],
   "source": [
    "try:\n",
    "    print(5/0)\n",
    "except ZeroDivisionError:\n",
    "    print('Bruh, it cannot be divided by zero!')"
   ]
  },
  {
   "cell_type": "code",
   "execution_count": 12,
   "id": "646f031c",
   "metadata": {},
   "outputs": [
    {
     "name": "stdout",
     "output_type": "stream",
     "text": [
      "Give me numbers a & b, I'll tell you the result of a/b.\n",
      "Enter ( q ) to quit\n",
      "\n",
      "First number a: 5\n",
      "Second number b: 88.8\n",
      "0.0563\n",
      "\n",
      "First number a: 5\n",
      "Second number b: 0\n",
      "Bruh, it cannot be divided by zero!\n",
      "\n",
      "First number a: q\n"
     ]
    }
   ],
   "source": [
    "print('Give me numbers a & b, I\\'ll tell you the result of a/b.')\n",
    "print('Enter ( q ) to quit')\n",
    "\n",
    "while True:\n",
    "    a = input('\\nFirst number a: ')\n",
    "    if a == 'q':\n",
    "        break\n",
    "    b = input('Second number b: ')\n",
    "    if b == 'q':\n",
    "        break\n",
    "    try:\n",
    "        answer = float(a) / float(b)\n",
    "    except ZeroDivisionError:\n",
    "        print('Bruh, it cannot be divided by zero!')\n",
    "    else:\n",
    "        print(round(answer, 4))"
   ]
  },
  {
   "cell_type": "code",
   "execution_count": 13,
   "id": "7d5e7707",
   "metadata": {},
   "outputs": [
    {
     "name": "stdout",
     "output_type": "stream",
     "text": [
      "['Alice', 'in', 'Wonderland']\n"
     ]
    }
   ],
   "source": [
    "# .split()\n",
    "title = 'Alice in Wonderland'\n",
    "a = title.split()\n",
    "print(a)"
   ]
  },
  {
   "cell_type": "code",
   "execution_count": 14,
   "id": "214e9ddb",
   "metadata": {},
   "outputs": [
    {
     "name": "stdout",
     "output_type": "stream",
     "text": [
      "The file ==python crash course code/chapter_10/alice.txt== has about 29465 words.\n"
     ]
    }
   ],
   "source": [
    "filename = 'python crash course code/chapter_10/alice.txt'\n",
    "\n",
    "try:\n",
    "    with open(filename, encoding='utf-8') as f:\n",
    "        contents = f.read()\n",
    "except FileNotFoundError:\n",
    "    print(f'Sorry, the file =={filename}== does not exist.')\n",
    "else:\n",
    "    words = contents.split()\n",
    "    num_words = len(words)\n",
    "    print(f'The file =={filename}== has about {num_words} words.')"
   ]
  },
  {
   "cell_type": "code",
   "execution_count": 15,
   "id": "c5ebf141",
   "metadata": {},
   "outputs": [
    {
     "name": "stdout",
     "output_type": "stream",
     "text": [
      "The file ==python crash course code/chapter_10/alice.txt== has about 29465 words.\n"
     ]
    }
   ],
   "source": [
    "# multiple files\n",
    "def count_words(filename):\n",
    "    try:\n",
    "        with open(filename, encoding='utf-8') as f:\n",
    "            contents = f.read()\n",
    "    except FileNotFoundError:\n",
    "        print(f'Sorry, the file =={filename}== does not exist.')\n",
    "    else:\n",
    "        words = contents.split()\n",
    "        num_words = len(words)\n",
    "        print(f'The file =={filename}== has about {num_words} words.')\n",
    "\n",
    "filename = 'python crash course code/chapter_10/alice.txt'\n",
    "count_words(filename)"
   ]
  },
  {
   "cell_type": "code",
   "execution_count": 16,
   "id": "fe74c86d",
   "metadata": {},
   "outputs": [
    {
     "name": "stdout",
     "output_type": "stream",
     "text": [
      "The file ==python crash course code/chapter_10/alice.txt== has about 29465 words.\n",
      "Sorry, the file ==python crash course code/chapter_10/asd.txt== does not exist.\n",
      "The file ==python crash course code/chapter_10/moby_dick.txt== has about 215830 words.\n",
      "The file ==python crash course code/chapter_10/little_women.txt== has about 189079 words.\n"
     ]
    }
   ],
   "source": [
    "filenames = ['python crash course code/chapter_10/alice.txt', 'python crash course code/chapter_10/asd.txt','python crash course code/chapter_10/moby_dick.txt', 'python crash course code/chapter_10/little_women.txt']\n",
    "for filename in filenames:\n",
    "    count_words(filename)"
   ]
  },
  {
   "cell_type": "code",
   "execution_count": 17,
   "id": "437b1e16",
   "metadata": {},
   "outputs": [
    {
     "name": "stdout",
     "output_type": "stream",
     "text": [
      "The file ==python crash course code/chapter_10/alice.txt== has about 29465 words.\n",
      "The file ==python crash course code/chapter_10/moby_dick.txt== has about 215830 words.\n",
      "The file ==python crash course code/chapter_10/little_women.txt== has about 189079 words.\n"
     ]
    }
   ],
   "source": [
    "def count_words(filename):\n",
    "    try:\n",
    "        with open(filename, encoding='utf-8') as f:\n",
    "            contents = f.read()\n",
    "    except FileNotFoundError:\n",
    "        pass # 静默处理\n",
    "    else:\n",
    "        words = contents.split()\n",
    "        num_words = len(words)\n",
    "        print(f'The file =={filename}== has about {num_words} words.')\n",
    "\n",
    "filenames = ['python crash course code/chapter_10/alice.txt', 'python crash course code/chapter_10/asd.txt','python crash course code/chapter_10/moby_dick.txt', 'python crash course code/chapter_10/little_women.txt']\n",
    "for filename in filenames:\n",
    "    count_words(filename)"
   ]
  },
  {
   "cell_type": "code",
   "execution_count": 18,
   "id": "320a56ec",
   "metadata": {},
   "outputs": [],
   "source": [
    "# JSON (JavaScript Object Notation)\n",
    "# .dump(data, where) .load(where)\n",
    "import json\n",
    "\n",
    "numbers = [1, 2, 3, 4, 5, 6]\n",
    "\n",
    "filename = 'numbers.json'\n",
    "with open(filename, 'w') as f:\n",
    "    json.dump(numbers, f)"
   ]
  },
  {
   "cell_type": "code",
   "execution_count": 19,
   "id": "5de60fe0",
   "metadata": {
    "scrolled": true
   },
   "outputs": [
    {
     "name": "stdout",
     "output_type": "stream",
     "text": [
      "[1, 2, 3, 4, 5, 6]\n"
     ]
    }
   ],
   "source": [
    "filename = 'numbers.json'\n",
    "with open(filename) as f:\n",
    "    numbers = json.load(f)\n",
    "    \n",
    "print(numbers)"
   ]
  },
  {
   "cell_type": "markdown",
   "id": "a62e2043",
   "metadata": {},
   "source": [
    "## ch.11 测试代码"
   ]
  },
  {
   "cell_type": "code",
   "execution_count": 4,
   "id": "12699c8f",
   "metadata": {},
   "outputs": [
    {
     "name": "stdout",
     "output_type": "stream",
     "text": [
      "Enter (q) at any time to quit.\n",
      "Your first name: janis\n",
      "Your last name: joplin\n",
      "\tNeatly formatted name: Janis Joplin.\n",
      "Your first name: bob\n",
      "Your last name: dylan\n",
      "\tNeatly formatted name: Bob Dylan.\n",
      "Your first name: daniel\n",
      "Your last name: yang\n",
      "\tNeatly formatted name: Daniel Yang.\n",
      "Your first name: q\n"
     ]
    }
   ],
   "source": [
    "# name_function.py\n",
    "def get_formatted_name(first, last):\n",
    "    full_name = f'{first} {last}'\n",
    "    return full_name.title()\n",
    "\n",
    "print('Enter (q) at any time to quit.')\n",
    "while True:\n",
    "    first = input('Your first name: ')\n",
    "    if first == 'q':\n",
    "        break\n",
    "    last = input('Your last name: ')\n",
    "    if last == 'q':\n",
    "        break\n",
    "        \n",
    "    formatted_name = get_formatted_name(first, last)\n",
    "    print(f'\\tNeatly formatted name: {formatted_name}.')"
   ]
  },
  {
   "cell_type": "code",
   "execution_count": null,
   "id": "681894ac",
   "metadata": {
    "scrolled": true
   },
   "outputs": [],
   "source": [
    "'''\n",
    "\n",
    "import unittest\n",
    "from name_function import get_fomatted_name\n",
    "\n",
    "class NamesTestCase(unittest.TestCase):\n",
    "    def test_first_last_name(self):\n",
    "        formatted_name = get_formatted_name('janis', 'joplin')\n",
    "        self.assertEqual(formatted_name, 'Janis Joplin')\n",
    "        \n",
    "if __name__ == '__main__':\n",
    "    unittest.main()\n",
    "\n",
    "'''"
   ]
  },
  {
   "cell_type": "code",
   "execution_count": null,
   "id": "c1c76671",
   "metadata": {},
   "outputs": [],
   "source": [
    "# setUp()"
   ]
  }
 ],
 "metadata": {
  "kernelspec": {
   "display_name": "Python 3",
   "language": "python",
   "name": "python3"
  },
  "language_info": {
   "codemirror_mode": {
    "name": "ipython",
    "version": 3
   },
   "file_extension": ".py",
   "mimetype": "text/x-python",
   "name": "python",
   "nbconvert_exporter": "python",
   "pygments_lexer": "ipython3",
   "version": "3.7.2"
  }
 },
 "nbformat": 4,
 "nbformat_minor": 5
}
