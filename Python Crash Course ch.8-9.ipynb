{
 "cells": [
  {
   "cell_type": "markdown",
   "id": "2ee2f76b",
   "metadata": {},
   "source": [
    "# *Python Crash Course 2nd Edition*"
   ]
  },
  {
   "cell_type": "markdown",
   "id": "e507686f",
   "metadata": {},
   "source": [
    "## ch.8 函数"
   ]
  },
  {
   "cell_type": "code",
   "execution_count": 28,
   "id": "25d5d1c7",
   "metadata": {},
   "outputs": [
    {
     "name": "stdout",
     "output_type": "stream",
     "text": [
      "Greetings, Traveller.\n"
     ]
    }
   ],
   "source": [
    "# Function\n",
    "# define a function (def)\n",
    "def greet_user():\n",
    "    '''this is docstring (文档字符串) which tells us what does this function do.'''\n",
    "    print('Greetings, Traveller.')\n",
    "greet_user()"
   ]
  },
  {
   "cell_type": "code",
   "execution_count": 29,
   "id": "9b3f8e6a",
   "metadata": {},
   "outputs": [
    {
     "name": "stdout",
     "output_type": "stream",
     "text": [
      "Hello! Daniel\n"
     ]
    }
   ],
   "source": [
    "def greet_user(name):\n",
    "    print(f'Hello! {name.title()}')\n",
    "    \n",
    "greet_user('danieL')"
   ]
  },
  {
   "cell_type": "code",
   "execution_count": 30,
   "id": "c36915c9",
   "metadata": {},
   "outputs": [
    {
     "name": "stdout",
     "output_type": "stream",
     "text": [
      "This player's steam ID is danielyang1999112.\n",
      "Player danielyang1999112's csgo matchmaking rank is silver4.\n"
     ]
    }
   ],
   "source": [
    "def mmrank(id, rank):\n",
    "    '''showing the player's matchmaking rank.'''\n",
    "    print(f\"This player's steam ID is {id}.\")\n",
    "    print(f\"Player {id}'s csgo matchmaking rank is {rank}.\")\n",
    "\n",
    "mmrank('danielyang1999112', 'silver4')"
   ]
  },
  {
   "cell_type": "code",
   "execution_count": 31,
   "id": "862267b7",
   "metadata": {},
   "outputs": [
    {
     "name": "stdout",
     "output_type": "stream",
     "text": [
      "\n",
      "This player's steam ID is danielyang1999112.\n",
      "Player danielyang1999112's csgo matchmaking rank is silver4.\n",
      "\n",
      "This player's steam ID is danielyang19981125.\n",
      "Player danielyang19981125's csgo matchmaking rank is legendary eagle.\n"
     ]
    }
   ],
   "source": [
    "def mmrank(id, rank):\n",
    "    '''showing the player's matchmaking rank.'''\n",
    "    print(f\"\\nThis player's steam ID is {id}.\")\n",
    "    print(f\"Player {id}'s csgo matchmaking rank is {rank}.\")\n",
    "\n",
    "mmrank('danielyang1999112', 'silver4')\n",
    "mmrank('danielyang19981125', 'legendary eagle')"
   ]
  },
  {
   "cell_type": "code",
   "execution_count": 32,
   "id": "594dfe8c",
   "metadata": {},
   "outputs": [
    {
     "name": "stdout",
     "output_type": "stream",
     "text": [
      "\n",
      "This player's steam ID is silver4.\n",
      "Player silver4's csgo matchmaking rank is danielyang1999112.\n"
     ]
    }
   ],
   "source": [
    "# making sure the order of argument\n",
    "def mmrank(id, rank):\n",
    "    '''showing the player's matchmaking rank.'''\n",
    "    print(f\"\\nThis player's steam ID is {id}.\")\n",
    "    print(f\"Player {id}'s csgo matchmaking rank is {rank}.\")\n",
    "\n",
    "mmrank('silver4', 'danielyang1999112')"
   ]
  },
  {
   "cell_type": "code",
   "execution_count": 33,
   "id": "177a9727",
   "metadata": {},
   "outputs": [
    {
     "name": "stdout",
     "output_type": "stream",
     "text": [
      "\n",
      "This player's steam ID is danielyang1999112.\n",
      "Player danielyang1999112's csgo matchmaking rank is silver4.\n",
      "\n",
      "This player's steam ID is danielyang1999112.\n",
      "Player danielyang1999112's csgo matchmaking rank is silver4.\n"
     ]
    }
   ],
   "source": [
    "# key words argument\n",
    "def mmrank(id, rank):\n",
    "    '''showing the player's matchmaking rank.'''\n",
    "    print(f\"\\nThis player's steam ID is {id}.\")\n",
    "    print(f\"Player {id}'s csgo matchmaking rank is {rank}.\")\n",
    "\n",
    "mmrank(id='danielyang1999112', rank='silver4')\n",
    "mmrank(rank='silver4', id='danielyang1999112')"
   ]
  },
  {
   "cell_type": "code",
   "execution_count": 34,
   "id": "24c69be2",
   "metadata": {},
   "outputs": [
    {
     "name": "stdout",
     "output_type": "stream",
     "text": [
      "\n",
      "This player's steam ID is unknown player.\n",
      "Player unknown player's csgo matchmaking rank is silver noob.\n",
      "\n",
      "This player's steam ID is danielyang1999112.\n",
      "Player danielyang1999112's csgo matchmaking rank is silver noob.\n"
     ]
    }
   ],
   "source": [
    "# default value\n",
    "def mmrank(id='unknown player', rank='silver noob'):\n",
    "    '''showing the player's matchmaking rank.'''\n",
    "    print(f\"\\nThis player's steam ID is {id}.\")\n",
    "    print(f\"Player {id}'s csgo matchmaking rank is {rank}.\")\n",
    "\n",
    "mmrank()\n",
    "mmrank('danielyang1999112')"
   ]
  },
  {
   "cell_type": "code",
   "execution_count": 35,
   "id": "d820711e",
   "metadata": {},
   "outputs": [
    {
     "name": "stdout",
     "output_type": "stream",
     "text": [
      "Daniel Yang\n"
     ]
    }
   ],
   "source": [
    "# return\n",
    "def formatted_name(first_name, last_name):\n",
    "    full_name = f'{first_name} {last_name}'\n",
    "    return full_name.title()\n",
    "\n",
    "player = formatted_name('daniEl', 'YANG')\n",
    "print(player)"
   ]
  },
  {
   "cell_type": "code",
   "execution_count": 36,
   "id": "7d07664f",
   "metadata": {},
   "outputs": [
    {
     "name": "stdout",
     "output_type": "stream",
     "text": [
      "Daniel Yang\n",
      "Donald John Trump\n"
     ]
    }
   ],
   "source": [
    "def formatted_name(first_name, last_name, middle_name=''):\n",
    "    if middle_name:\n",
    "        full_name = f'{first_name} {middle_name} {last_name}'\n",
    "    else:\n",
    "        full_name = f'{first_name} {last_name}'\n",
    "    return full_name.title()\n",
    "\n",
    "player = formatted_name('daniEl', 'YANG')\n",
    "print(player)\n",
    "\n",
    "print(formatted_name('donald', 'trump', 'JOHN'))"
   ]
  },
  {
   "cell_type": "code",
   "execution_count": 37,
   "id": "990d9343",
   "metadata": {},
   "outputs": [],
   "source": [
    "# 禁止函数修改列表\n",
    "# function_name(alist[:])\n",
    "# using list[:] to create a copy"
   ]
  },
  {
   "cell_type": "code",
   "execution_count": 38,
   "id": "f01e545f",
   "metadata": {},
   "outputs": [
    {
     "name": "stdout",
     "output_type": "stream",
     "text": [
      "\n",
      "Making a pizza with the following toppings:\n",
      "\t- pepperoni\n",
      "\n",
      "Making a pizza with the following toppings:\n",
      "\t- mushrooms\n",
      "\t- hams\n",
      "\t- green peppers\n",
      "\t- extra cheese\n"
     ]
    }
   ],
   "source": [
    "# using * to create a tuple (passing any number of argument to the function)\n",
    "def make_pizza(*toppings):\n",
    "    print('\\nMaking a pizza with the following toppings:')\n",
    "    for topping in toppings:\n",
    "        print(f'\\t- {topping}')\n",
    "        \n",
    "make_pizza('pepperoni')\n",
    "make_pizza('mushrooms', 'hams', 'green peppers', 'extra cheese')"
   ]
  },
  {
   "cell_type": "code",
   "execution_count": 39,
   "id": "349a17a3",
   "metadata": {},
   "outputs": [
    {
     "name": "stdout",
     "output_type": "stream",
     "text": [
      "\n",
      "Making a 16-inch pizza with the following toppings:\n",
      "\t- pepperoni\n",
      "\n",
      "Making a 12-inch pizza with the following toppings:\n",
      "\t- mushrooms\n",
      "\t- hams\n",
      "\t- green peppers\n",
      "\t- extra cheese\n"
     ]
    }
   ],
   "source": [
    "def make_pizza(size, *toppings):\n",
    "    print(f'\\nMaking a {size}-inch pizza with the following toppings:')\n",
    "    for topping in toppings:\n",
    "        print(f'\\t- {topping}')\n",
    "        \n",
    "make_pizza(16, 'pepperoni')\n",
    "make_pizza(12, 'mushrooms', 'hams', 'green peppers', 'extra cheese')"
   ]
  },
  {
   "cell_type": "code",
   "execution_count": 40,
   "id": "e4ba73ce",
   "metadata": {},
   "outputs": [],
   "source": [
    "# save it as pizza.py\n",
    "\n",
    "# import pizza\n",
    "# pizza.make_pizza(16, 'pepperoni')\n",
    "\n",
    "# from pizza import make_pizza\n",
    "# make_pizza(16, 'pepperoni')\n",
    "\n",
    "\n",
    "\n",
    "# alias\n",
    "\n",
    "# import pizza as p\n",
    "# p.make_pizza(16, 'pepperoni')\n",
    "\n",
    "# from pizza import make_pizza as mp\n",
    "# mp(16, 'pepperoni')\n",
    "\n",
    "# from pizza import * (all)\n",
    "\n"
   ]
  },
  {
   "cell_type": "markdown",
   "id": "d326048c",
   "metadata": {},
   "source": [
    "## ch.9 类"
   ]
  },
  {
   "cell_type": "code",
   "execution_count": 41,
   "id": "ce55e5d4",
   "metadata": {},
   "outputs": [
    {
     "name": "stdout",
     "output_type": "stream",
     "text": [
      "My dog's name is Willie.\n",
      "My dog is 6 years old.\n"
     ]
    }
   ],
   "source": [
    "# class\n",
    "# __init__()\n",
    "\n",
    "# Dog\n",
    "class Dog:\n",
    "    def __init__(self, name, age):\n",
    "        self.name = name\n",
    "        self.age = age\n",
    "        \n",
    "    def sit(self):\n",
    "        print(f'{self.name} is now sitting.')\n",
    "        \n",
    "    def roll_over(self):\n",
    "        print(f'{self.name} rolled over!')\n",
    "        \n",
    "my_dog = Dog('Willie', 6)\n",
    "print(f'My dog\\'s name is {my_dog.name}.')\n",
    "print(f'My dog is {my_dog.age} years old.')"
   ]
  },
  {
   "cell_type": "code",
   "execution_count": 42,
   "id": "70822e1e",
   "metadata": {},
   "outputs": [
    {
     "name": "stdout",
     "output_type": "stream",
     "text": [
      "My dog's name is Willie.\n",
      "My dog is 6 years old.\n",
      "Willie is now sitting.\n",
      "\n",
      "Your dog's name is Lucy.\n",
      "Your dog is 3 years old.\n",
      "Lucy rolled over!\n"
     ]
    }
   ],
   "source": [
    "my_dog = Dog('Willie', 6)\n",
    "your_dog = Dog('Lucy', 3)\n",
    "\n",
    "print(f'My dog\\'s name is {my_dog.name}.')\n",
    "print(f'My dog is {my_dog.age} years old.')\n",
    "my_dog.sit()\n",
    "\n",
    "print(f'\\nYour dog\\'s name is {your_dog.name}.')\n",
    "print(f'Your dog is {your_dog.age} years old.')\n",
    "your_dog.roll_over()"
   ]
  },
  {
   "cell_type": "code",
   "execution_count": 43,
   "id": "34c00853",
   "metadata": {},
   "outputs": [
    {
     "name": "stdout",
     "output_type": "stream",
     "text": [
      "2021 Audi A4\n"
     ]
    }
   ],
   "source": [
    "# Car\n",
    "class Car:\n",
    "    def __init__(self, make, model, year):\n",
    "        self.make = make\n",
    "        self.model = model\n",
    "        self.year = year\n",
    "        \n",
    "    def description(self):\n",
    "        info = f'{self.year} {self.make} {self.model}'\n",
    "        return info.title()\n",
    "    \n",
    "my_car = Car('audi', 'a4', 2021)\n",
    "print(my_car.description())"
   ]
  },
  {
   "cell_type": "code",
   "execution_count": 44,
   "id": "01184d80",
   "metadata": {},
   "outputs": [
    {
     "name": "stdout",
     "output_type": "stream",
     "text": [
      "2021 Audi A4\n",
      "This car has 0 miles on it.\n"
     ]
    }
   ],
   "source": [
    "class Car:\n",
    "    def __init__(self, make, model, year):\n",
    "        self.make = make\n",
    "        self.model = model\n",
    "        self.year = year\n",
    "        self.odometer_reading = 0\n",
    "        \n",
    "    def description(self):\n",
    "        info = f'{self.year} {self.make} {self.model}'\n",
    "        return info.title()\n",
    "    \n",
    "    def read_odometer(self):\n",
    "        print(f'This car has {self.odometer_reading} miles on it.')\n",
    "        \n",
    "my_car = Car('audi', 'a4', 2021)\n",
    "print(my_car.description())\n",
    "my_car.read_odometer()"
   ]
  },
  {
   "cell_type": "code",
   "execution_count": 45,
   "id": "7ad8e983",
   "metadata": {},
   "outputs": [
    {
     "name": "stdout",
     "output_type": "stream",
     "text": [
      "2021 Audi A4\n",
      "This car has 222 miles on it.\n"
     ]
    }
   ],
   "source": [
    "my_car = Car('audi', 'a4', 2021)\n",
    "print(my_car.description())\n",
    "# direct way\n",
    "my_car.odometer_reading = 222\n",
    "my_car.read_odometer()"
   ]
  },
  {
   "cell_type": "code",
   "execution_count": 46,
   "id": "7f737550",
   "metadata": {},
   "outputs": [
    {
     "name": "stdout",
     "output_type": "stream",
     "text": [
      "2021 Audi A4\n",
      "This car has 250 miles on it.\n"
     ]
    }
   ],
   "source": [
    "# Using function\n",
    "class Car:\n",
    "    def __init__(self, make, model, year):\n",
    "        self.make = make\n",
    "        self.model = model\n",
    "        self.year = year\n",
    "        self.odometer_reading = 0\n",
    "        \n",
    "    def description(self):\n",
    "        info = f'{self.year} {self.make} {self.model}'\n",
    "        return info.title()\n",
    "    \n",
    "    def read_odometer(self):\n",
    "        print(f'This car has {self.odometer_reading} miles on it.')\n",
    "    \n",
    "    def update_odometer(self, mileage):\n",
    "        self.odometer_reading = mileage\n",
    "    \n",
    "my_car = Car('audi', 'a4', 2021)\n",
    "print(my_car.description())\n",
    "my_car.update_odometer(250)\n",
    "my_car.read_odometer()"
   ]
  },
  {
   "cell_type": "code",
   "execution_count": 47,
   "id": "f3183875",
   "metadata": {},
   "outputs": [
    {
     "name": "stdout",
     "output_type": "stream",
     "text": [
      "2021 Audi A4\n",
      "You cannot roll back an odometer!\n",
      "This car has 0 miles on it.\n"
     ]
    }
   ],
   "source": [
    "# Adding condition\n",
    "class Car:\n",
    "    def __init__(self, make, model, year):\n",
    "        self.make = make\n",
    "        self.model = model\n",
    "        self.year = year\n",
    "        self.odometer_reading = 0\n",
    "        \n",
    "    def description(self):\n",
    "        info = f'{self.year} {self.make} {self.model}'\n",
    "        return info.title()\n",
    "    \n",
    "    def read_odometer(self):\n",
    "        print(f'This car has {self.odometer_reading} miles on it.')\n",
    "    \n",
    "    def update_odometer(self, mileage):\n",
    "        if mileage >= self.odometer_reading:\n",
    "            self.odometer_reading = mileage\n",
    "        else:\n",
    "            print('You cannot roll back an odometer!')\n",
    "            \n",
    "my_car = Car('audi', 'a4', 2021)\n",
    "print(my_car.description())\n",
    "my_car.update_odometer(-1)\n",
    "my_car.read_odometer()"
   ]
  },
  {
   "cell_type": "code",
   "execution_count": 48,
   "id": "cbd948a9",
   "metadata": {},
   "outputs": [
    {
     "name": "stdout",
     "output_type": "stream",
     "text": [
      "2015 Subaru Outback\n",
      "This car has 23500 miles on it.\n",
      "This car has 24000 miles on it.\n"
     ]
    }
   ],
   "source": [
    "class Car:\n",
    "    def __init__(self, make, model, year):\n",
    "        self.make = make\n",
    "        self.model = model\n",
    "        self.year = year\n",
    "        self.odometer_reading = 0\n",
    "        \n",
    "    def description(self):\n",
    "        info = f'{self.year} {self.make} {self.model}'\n",
    "        return info.title()\n",
    "    \n",
    "    def read_odometer(self):\n",
    "        print(f'This car has {self.odometer_reading} miles on it.')\n",
    "    \n",
    "    def update_odometer(self, mileage):\n",
    "        if mileage >= self.odometer_reading:\n",
    "            self.odometer_reading = mileage\n",
    "        else:\n",
    "            print('You cannot roll back an odometer!')\n",
    "            \n",
    "    def increment_odometer(self, miles):\n",
    "        self.odometer_reading += miles\n",
    "        \n",
    "my_used_car = Car('subaru', 'outback', 2015)\n",
    "print(my_used_car.description())\n",
    "\n",
    "my_used_car.update_odometer(23_500)\n",
    "my_used_car.read_odometer()\n",
    "\n",
    "my_used_car.increment_odometer(500)\n",
    "my_used_car.read_odometer()"
   ]
  },
  {
   "cell_type": "code",
   "execution_count": 49,
   "id": "009e641b",
   "metadata": {},
   "outputs": [
    {
     "name": "stdout",
     "output_type": "stream",
     "text": [
      "2019 Tesla Model S\n"
     ]
    }
   ],
   "source": [
    "# 继承(Inheritance) super().__init__(xxx)\n",
    "\n",
    "# 父类 Superclass\n",
    "class Car:\n",
    "    def __init__(self, make, model, year):\n",
    "        self.make = make\n",
    "        self.model = model\n",
    "        self.year = year\n",
    "        self.odometer_reading = 0\n",
    "        \n",
    "    def description(self):\n",
    "        info = f'{self.year} {self.make} {self.model}'\n",
    "        return info.title()\n",
    "    \n",
    "    def read_odometer(self):\n",
    "        print(f'This car has {self.odometer_reading} miles on it.')\n",
    "    \n",
    "    def update_odometer(self, mileage):\n",
    "        if mileage >= self.odometer_reading:\n",
    "            self.odometer_reading = mileage\n",
    "        else:\n",
    "            print('You cannot roll back an odometer!')\n",
    "            \n",
    "    def increment_odometer(self, miles):\n",
    "        self.odometer_reading += miles\n",
    "\n",
    "# 子类 Subclass    \n",
    "class ElectricCar(Car):\n",
    "    def __init__(self, make, model, year):\n",
    "        # 初始化父类的属性\n",
    "        super().__init__(make, model, year)\n",
    "        \n",
    "my_tesla = ElectricCar('tesla', 'model s', 2019)\n",
    "print(my_tesla.description())"
   ]
  },
  {
   "cell_type": "code",
   "execution_count": 50,
   "id": "f651f929",
   "metadata": {},
   "outputs": [
    {
     "name": "stdout",
     "output_type": "stream",
     "text": [
      "2019 Tesla Model S\n",
      "This car has a 75-kWh battery.\n"
     ]
    }
   ],
   "source": [
    "class Car:\n",
    "    def __init__(self, make, model, year):\n",
    "        self.make = make\n",
    "        self.model = model\n",
    "        self.year = year\n",
    "        self.odometer_reading = 0\n",
    "        \n",
    "    def description(self):\n",
    "        info = f'{self.year} {self.make} {self.model}'\n",
    "        return info.title()\n",
    "    \n",
    "    def read_odometer(self):\n",
    "        print(f'This car has {self.odometer_reading} miles on it.')\n",
    "    \n",
    "    def update_odometer(self, mileage):\n",
    "        if mileage >= self.odometer_reading:\n",
    "            self.odometer_reading = mileage\n",
    "        else:\n",
    "            print('You cannot roll back an odometer!')\n",
    "            \n",
    "    def increment_odometer(self, miles):\n",
    "        self.odometer_reading += miles\n",
    "\n",
    "class ElectricCar(Car):\n",
    "    def __init__(self, make, model, year):\n",
    "        super().__init__(make, model, year)\n",
    "        self.battery_size = 75\n",
    "        \n",
    "    def describe_battery(self):\n",
    "        print(f'This car has a {self.battery_size}-kWh battery.')\n",
    "        \n",
    "my_tesla = ElectricCar('tesla', 'model s', 2019)\n",
    "print(my_tesla.description())\n",
    "my_tesla.describe_battery()"
   ]
  },
  {
   "cell_type": "code",
   "execution_count": 51,
   "id": "db069d3a",
   "metadata": {},
   "outputs": [
    {
     "name": "stdout",
     "output_type": "stream",
     "text": [
      "2019 Tesla Model S\n",
      "This car has a 75-kWh battery.\n"
     ]
    }
   ],
   "source": [
    "class Car:\n",
    "    def __init__(self, make, model, year):\n",
    "        self.make = make\n",
    "        self.model = model\n",
    "        self.year = year\n",
    "        self.odometer_reading = 0\n",
    "        \n",
    "    def description(self):\n",
    "        info = f'{self.year} {self.make} {self.model}'\n",
    "        return info.title()\n",
    "    \n",
    "    def read_odometer(self):\n",
    "        print(f'This car has {self.odometer_reading} miles on it.')\n",
    "    \n",
    "    def update_odometer(self, mileage):\n",
    "        if mileage >= self.odometer_reading:\n",
    "            self.odometer_reading = mileage\n",
    "        else:\n",
    "            print('You cannot roll back an odometer!')\n",
    "            \n",
    "    def increment_odometer(self, miles):\n",
    "        self.odometer_reading += miles\n",
    "\n",
    "class Battery:\n",
    "    def __init__(self, battery_size=75):\n",
    "        self.battery_size = battery_size\n",
    "        \n",
    "    def describe_battery(self):\n",
    "        print(f'This car has a {self.battery_size}-kWh battery.')\n",
    "        \n",
    "class ElectricCar(Car):\n",
    "    def __init__(self, make, model, year):\n",
    "        super().__init__(make, model, year)\n",
    "        self.battery = Battery()\n",
    "\n",
    "my_tesla = ElectricCar('tesla', 'model s', 2019)\n",
    "\n",
    "print(my_tesla.description())\n",
    "my_tesla.battery.describe_battery()"
   ]
  },
  {
   "cell_type": "code",
   "execution_count": 52,
   "id": "cb0b7207",
   "metadata": {},
   "outputs": [
    {
     "name": "stdout",
     "output_type": "stream",
     "text": [
      "2019 Tesla Model S\n",
      "This car has a 75-kWh battery.\n",
      "This car can go about 260 miles on a full charge.\n"
     ]
    }
   ],
   "source": [
    "class Car:\n",
    "    def __init__(self, make, model, year):\n",
    "        self.make = make\n",
    "        self.model = model\n",
    "        self.year = year\n",
    "        self.odometer_reading = 0\n",
    "        \n",
    "    def description(self):\n",
    "        info = f'{self.year} {self.make} {self.model}'\n",
    "        return info.title()\n",
    "    \n",
    "    def read_odometer(self):\n",
    "        print(f'This car has {self.odometer_reading} miles on it.')\n",
    "    \n",
    "    def update_odometer(self, mileage):\n",
    "        if mileage >= self.odometer_reading:\n",
    "            self.odometer_reading = mileage\n",
    "        else:\n",
    "            print('You cannot roll back an odometer!')\n",
    "            \n",
    "    def increment_odometer(self, miles):\n",
    "        self.odometer_reading += miles\n",
    "\n",
    "class Battery:\n",
    "    def __init__(self, battery_size=75):\n",
    "        self.battery_size = battery_size\n",
    "        \n",
    "    def describe_battery(self):\n",
    "        print(f'This car has a {self.battery_size}-kWh battery.')\n",
    "        \n",
    "    def get_range(self):\n",
    "        if self.battery_size == 75:\n",
    "            rrange = 260\n",
    "        elif self.battery_size == 100:\n",
    "            rrange = 315\n",
    "            \n",
    "        print(f'This car can go about {rrange} miles on a full charge.')\n",
    "        \n",
    "class ElectricCar(Car):\n",
    "    def __init__(self, make, model, year):\n",
    "        super().__init__(make, model, year)\n",
    "        self.battery = Battery()\n",
    "    \n",
    "my_tesla = ElectricCar('tesla', 'model s', 2019)\n",
    "print(my_tesla.description())\n",
    "my_tesla.battery.describe_battery()\n",
    "my_tesla.battery.get_range()"
   ]
  },
  {
   "cell_type": "code",
   "execution_count": 53,
   "id": "48dd5c83",
   "metadata": {},
   "outputs": [],
   "source": [
    "# save it as car.py\n",
    "# from car import Car\n",
    "# from car import ElectricCar\n",
    "# from car import Car, ElectricCar\n",
    "# import car"
   ]
  },
  {
   "cell_type": "code",
   "execution_count": 54,
   "id": "94dcb5fb",
   "metadata": {},
   "outputs": [
    {
     "data": {
      "text/plain": [
       "4"
      ]
     },
     "execution_count": 54,
     "metadata": {},
     "output_type": "execute_result"
    }
   ],
   "source": [
    "from random import randint\n",
    "randint(1, 6)"
   ]
  },
  {
   "cell_type": "code",
   "execution_count": 55,
   "id": "fe1e5664",
   "metadata": {},
   "outputs": [
    {
     "name": "stdout",
     "output_type": "stream",
     "text": [
      "Tosszzy\n"
     ]
    }
   ],
   "source": [
    "from random import choice\n",
    "players = ['IIIIIIII', 'Tosszzy', 'Danie1Yang9', 'asdasd']\n",
    "first_up = choice(players)\n",
    "print(first_up)"
   ]
  }
 ],
 "metadata": {
  "kernelspec": {
   "display_name": "Python 3",
   "language": "python",
   "name": "python3"
  },
  "language_info": {
   "codemirror_mode": {
    "name": "ipython",
    "version": 3
   },
   "file_extension": ".py",
   "mimetype": "text/x-python",
   "name": "python",
   "nbconvert_exporter": "python",
   "pygments_lexer": "ipython3",
   "version": "3.7.2"
  }
 },
 "nbformat": 4,
 "nbformat_minor": 5
}
