{
 "cells": [
  {
   "cell_type": "markdown",
   "id": "590efc15",
   "metadata": {},
   "source": [
    "# *Python Crash Course 2nd Edition*\n",
    "## ch.4 操作列表"
   ]
  },
  {
   "cell_type": "code",
   "execution_count": 10,
   "id": "792c2cb1",
   "metadata": {},
   "outputs": [
    {
     "name": "stdout",
     "output_type": "stream",
     "text": [
      "battlefield 2042\n",
      "forza horizon 5\n",
      "monster hunter rise\n"
     ]
    }
   ],
   "source": [
    "# List\n",
    "new_games = ['battlefield 2042', 'forza horizon 5', 'monster hunter rise']\n",
    "for game in new_games:\n",
    "    print(game)"
   ]
  },
  {
   "cell_type": "code",
   "execution_count": 11,
   "id": "b2b5e520",
   "metadata": {},
   "outputs": [
    {
     "name": "stdout",
     "output_type": "stream",
     "text": [
      "Battlefield 2042, GG! Good Game!\n",
      "I can't wait to play Battlefield 2042\n",
      "\n",
      "Forza Horizon 5, GG! Good Game!\n",
      "I can't wait to play Forza Horizon 5\n",
      "\n",
      "Monster Hunter Rise, GG! Good Game!\n",
      "I can't wait to play Monster Hunter Rise\n",
      "\n",
      "I guess they would cost you about 1,000 RMB?\n"
     ]
    }
   ],
   "source": [
    "# always be careful about indentation\n",
    "for game in new_games:\n",
    "    print(f'{game.title()}, GG! Good Game!')\n",
    "    print(f\"I can't wait to play {game.title()}\\n\")\n",
    "\n",
    "print('I guess they would cost you about 1,000 RMB?')"
   ]
  },
  {
   "cell_type": "code",
   "execution_count": 12,
   "id": "eca32aae",
   "metadata": {},
   "outputs": [
    {
     "name": "stdout",
     "output_type": "stream",
     "text": [
      "1\n",
      "2\n",
      "3\n",
      "4\n",
      "5\n",
      "[0, 1, 2, 3, 4, 5]\n",
      "[2, 4, 6, 8, 10]\n",
      "[1, 2, 4, 8, 16, 32, 64, 128, 256, 512, 1024]\n"
     ]
    }
   ],
   "source": [
    "# range(a,b,k) (a included, b excluded, k is step)\n",
    "for i in range(1,6):\n",
    "    print(i)\n",
    "\n",
    "    \n",
    "numbers = list(range(6))\n",
    "print(numbers)\n",
    "\n",
    "\n",
    "numbers = list(range(2,11,2))\n",
    "print(numbers)\n",
    "\n",
    "\n",
    "squares2 = []\n",
    "for i in range(11):\n",
    "    square = 2**i\n",
    "    squares2.append(square)\n",
    "    # or squares2.append(2**i)\n",
    "    # 先写清晰易懂的代码，等审核时再考虑采用更高效的方法。\n",
    "print(squares2)"
   ]
  },
  {
   "cell_type": "code",
   "execution_count": 13,
   "id": "92ceb93c",
   "metadata": {},
   "outputs": [
    {
     "name": "stdout",
     "output_type": "stream",
     "text": [
      "0\n",
      "10\n",
      "55\n"
     ]
    }
   ],
   "source": [
    "# simple statistics\n",
    "digits = list(range(11))\n",
    "print(min(digits))\n",
    "print(max(digits))\n",
    "print(sum(digits))"
   ]
  },
  {
   "cell_type": "code",
   "execution_count": 14,
   "id": "b36693ae",
   "metadata": {},
   "outputs": [
    {
     "name": "stdout",
     "output_type": "stream",
     "text": [
      "[1, 4, 9, 16, 25, 36, 49, 64, 81, 100]\n"
     ]
    }
   ],
   "source": [
    "squares = [value**2 for value in range(1,11)]\n",
    "print(squares)"
   ]
  },
  {
   "cell_type": "code",
   "execution_count": 15,
   "id": "d3a64577",
   "metadata": {},
   "outputs": [
    {
     "name": "stdout",
     "output_type": "stream",
     "text": [
      "['我是农民的传奇', 'daniel yang', 'tosszzy']\n",
      "['daniel yang', 'tosszzy', 'IIIIIIIIII']\n",
      "['IIIIIIIIII', 'tosszzy', 'daniel yang', '我是农民的传奇']\n"
     ]
    }
   ],
   "source": [
    "# a part of list\n",
    "# slice\n",
    "players = ['我是农民的传奇', 'daniel yang', 'tosszzy', 'IIIIIIIIII']\n",
    "print(players[0:3])\n",
    "print(players[1:4])\n",
    "print(players[::-1])"
   ]
  },
  {
   "cell_type": "code",
   "execution_count": 16,
   "id": "cedd8df0",
   "metadata": {},
   "outputs": [
    {
     "name": "stdout",
     "output_type": "stream",
     "text": [
      "Here is my crew:\n",
      "我是农民的传奇\n",
      "Daniel Yang\n",
      "Tosszzy\n"
     ]
    }
   ],
   "source": [
    "print('Here is my crew:')\n",
    "for player in players[:3]:\n",
    "    print(player.title())"
   ]
  },
  {
   "cell_type": "code",
   "execution_count": 17,
   "id": "233b32c1",
   "metadata": {},
   "outputs": [
    {
     "name": "stdout",
     "output_type": "stream",
     "text": [
      "My favorite foods are:\n",
      "pringles\n",
      "fries\n",
      "chips\n",
      "nuggets\n",
      "\n",
      "My friend's favorite foods are:\n",
      "chips\n",
      "nuggets\n",
      "steak\n"
     ]
    }
   ],
   "source": [
    "# copy list\n",
    "my_foods = ['pringles', 'fries', 'chips', 'nuggets']\n",
    "friend_foods = my_foods[2:]\n",
    "friend_foods.append('steak')\n",
    "\n",
    "print('My favorite foods are:')\n",
    "for i in my_foods:\n",
    "    print(i)\n",
    "\n",
    "print('\\nMy friend\\'s favorite foods are:')\n",
    "for i in friend_foods:\n",
    "    print(i)"
   ]
  },
  {
   "cell_type": "code",
   "execution_count": 18,
   "id": "e2d5c238",
   "metadata": {},
   "outputs": [
    {
     "name": "stdout",
     "output_type": "stream",
     "text": [
      "20\n",
      "10\n",
      "20\n",
      "10\n"
     ]
    }
   ],
   "source": [
    "# tuple (cannot be changed)\n",
    "dimensions = (20, 10)\n",
    "print(dimensions[0])\n",
    "print(dimensions[1])\n",
    "\n",
    "# dimensions[0] = 123\n",
    "# TypeError: 'tuple' object does not support item assignment\n",
    "\n",
    "for dimension in dimensions:\n",
    "    print(dimension)"
   ]
  },
  {
   "cell_type": "code",
   "execution_count": 19,
   "id": "0e8d9a1b",
   "metadata": {},
   "outputs": [
    {
     "name": "stdout",
     "output_type": "stream",
     "text": [
      "20\n",
      "10\n",
      "55\n",
      "66\n"
     ]
    }
   ],
   "source": [
    "# modify tuple\n",
    "dimensions = (20, 10)\n",
    "for dimension in dimensions:\n",
    "    print(dimension)\n",
    "\n",
    "dimensions = (55, 66)\n",
    "for dimension in dimensions:\n",
    "    print(dimension)"
   ]
  },
  {
   "cell_type": "markdown",
   "id": "4663ef82",
   "metadata": {},
   "source": [
    "## ch.5 if 语句"
   ]
  },
  {
   "cell_type": "code",
   "execution_count": 20,
   "id": "f9091c5d",
   "metadata": {},
   "outputs": [
    {
     "name": "stdout",
     "output_type": "stream",
     "text": [
      "2042\n",
      "FORZA HORIZON 5\n",
      "MONSTER HUNTER RISE\n"
     ]
    }
   ],
   "source": [
    "# if conditonal_test:\n",
    "#     do something\n",
    "\n",
    "# condition: ==, !=, >, <, >=, <=\n",
    "# and, or\n",
    "\n",
    "# if-else\n",
    "new_games = ['battlefield 2042', 'forza horizon 5', 'monster hunter rise']\n",
    "for game in new_games:\n",
    "    if game == 'battlefield 2042':\n",
    "        print(game[-4:])\n",
    "    else:\n",
    "        print(game.upper())"
   ]
  },
  {
   "cell_type": "code",
   "execution_count": 25,
   "id": "c8561b4c",
   "metadata": {},
   "outputs": [
    {
     "data": {
      "text/plain": [
       "True"
      ]
     },
     "execution_count": 25,
     "metadata": {},
     "output_type": "execute_result"
    }
   ],
   "source": [
    "new_games = ['battlefield 2042', 'forza horizon 5', 'monster hunter rise']\n",
    "'battlefield 2042' in new_games"
   ]
  },
  {
   "cell_type": "code",
   "execution_count": 22,
   "id": "a16a235c",
   "metadata": {},
   "outputs": [],
   "source": [
    "# Boolean - True / False\n",
    "asd = True\n",
    "aaa = False"
   ]
  },
  {
   "cell_type": "code",
   "execution_count": 23,
   "id": "72d13339",
   "metadata": {},
   "outputs": [
    {
     "name": "stdout",
     "output_type": "stream",
     "text": [
      "It costs $5.\n"
     ]
    }
   ],
   "source": [
    "# if-elif-else\n",
    "age = 13\n",
    "if age < 5:\n",
    "    print('It\\'s free!')\n",
    "elif age < 18:\n",
    "    print('It costs $5.')\n",
    "else:\n",
    "    print('It costs $15.')"
   ]
  },
  {
   "cell_type": "code",
   "execution_count": 24,
   "id": "b1e077fa",
   "metadata": {},
   "outputs": [
    {
     "name": "stdout",
     "output_type": "stream",
     "text": [
      "Adding mushrooms.\n",
      "Oops, we are out of french fries.\n",
      "Adding extra cheese.\n",
      "\n",
      "Finished making your pizza!\n"
     ]
    }
   ],
   "source": [
    "available_toppings = ['mushrooms', 'olives', 'green peppers', 'pepperoni', 'pineapple', 'extra cheese']\n",
    "requested_toppings = ['mushrooms', 'french fries', 'extra cheese']\n",
    "\n",
    "for requested_topping in requested_toppings:\n",
    "    if requested_topping in available_toppings:\n",
    "        print(f'Adding {requested_topping}.')\n",
    "    else:\n",
    "        print(f'Oops, we are out of {requested_topping}.')\n",
    "\n",
    "print('\\nFinished making your pizza!')"
   ]
  }
 ],
 "metadata": {
  "kernelspec": {
   "display_name": "Python 3",
   "language": "python",
   "name": "python3"
  },
  "language_info": {
   "codemirror_mode": {
    "name": "ipython",
    "version": 3
   },
   "file_extension": ".py",
   "mimetype": "text/x-python",
   "name": "python",
   "nbconvert_exporter": "python",
   "pygments_lexer": "ipython3",
   "version": "3.7.2"
  }
 },
 "nbformat": 4,
 "nbformat_minor": 5
}
