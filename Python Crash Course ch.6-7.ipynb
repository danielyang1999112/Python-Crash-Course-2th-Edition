{
 "cells": [
  {
   "cell_type": "markdown",
   "id": "fbddbc64",
   "metadata": {},
   "source": [
    "## ch.6 字典"
   ]
  },
  {
   "cell_type": "code",
   "execution_count": 1,
   "id": "4b68a86e",
   "metadata": {},
   "outputs": [
    {
     "name": "stdout",
     "output_type": "stream",
     "text": [
      "green\n",
      "5\n"
     ]
    }
   ],
   "source": [
    "# Dictionary\n",
    "\n",
    "# alien (color & points) 键值对\n",
    "alien_0 = {'color':'green', 'points':5}\n",
    "\n",
    "print(alien_0['color'])\n",
    "print(alien_0['points'])"
   ]
  },
  {
   "cell_type": "code",
   "execution_count": 2,
   "id": "144ec5d4",
   "metadata": {},
   "outputs": [
    {
     "name": "stdout",
     "output_type": "stream",
     "text": [
      "You just Killed a green alien and Earned 5 points!\n"
     ]
    }
   ],
   "source": [
    "# Key and Values\n",
    "alien_0 = {'color':'green', 'points':5}\n",
    "\n",
    "new_color = alien_0['color']\n",
    "new_points = alien_0['points']\n",
    "print(f'You just Killed a {new_color} alien and Earned {new_points} points!')"
   ]
  },
  {
   "cell_type": "code",
   "execution_count": 3,
   "id": "3f2eb8fb",
   "metadata": {},
   "outputs": [
    {
     "name": "stdout",
     "output_type": "stream",
     "text": [
      "{'color': 'green', 'points': 5}\n",
      "{'color': 'green', 'points': 5, 'x_position': 0, 'y_position': 25}\n"
     ]
    }
   ],
   "source": [
    "# Add new keys and values\n",
    "alien_0 = {'color':'green', 'points':5}\n",
    "print(alien_0)\n",
    "\n",
    "# 新增外星人的x, y坐标\n",
    "alien_0['x_position'] = 0\n",
    "alien_0['y_position'] = 25\n",
    "print(alien_0)"
   ]
  },
  {
   "cell_type": "code",
   "execution_count": 4,
   "id": "789428ab",
   "metadata": {},
   "outputs": [
    {
     "name": "stdout",
     "output_type": "stream",
     "text": [
      "{'color': 'green', 'points': 5}\n"
     ]
    }
   ],
   "source": [
    "alien_0 = {}\n",
    "\n",
    "alien_0['color'] = 'green'\n",
    "alien_0['points'] = 5\n",
    "print(alien_0)"
   ]
  },
  {
   "cell_type": "code",
   "execution_count": 5,
   "id": "8689ef7d",
   "metadata": {},
   "outputs": [
    {
     "name": "stdout",
     "output_type": "stream",
     "text": [
      "The alien is green.\n",
      "The upgraded alien is yellow.\n"
     ]
    }
   ],
   "source": [
    "# Modify\n",
    "alien_0 = {'color':'green', 'points':5}\n",
    "print(f\"The alien is {alien_0['color']}.\")\n",
    "\n",
    "alien_0['color'] = 'yellow'\n",
    "print(f\"The upgraded alien is {alien_0['color']}.\")"
   ]
  },
  {
   "cell_type": "code",
   "execution_count": 6,
   "id": "ad1f6a00",
   "metadata": {},
   "outputs": [
    {
     "name": "stdout",
     "output_type": "stream",
     "text": [
      "Original x-position: 0\n",
      "New x-position: 2\n"
     ]
    }
   ],
   "source": [
    "alien_0 = {'x_position':0,\n",
    "           'y_position':25,\n",
    "           'speed':'medium'}\n",
    "print(f\"Original x-position: {alien_0['x_position']}\")\n",
    "\n",
    "if alien_0['speed'] == 'slow':\n",
    "    x_increment = 1\n",
    "elif alien_0['speed'] == 'medium':\n",
    "    x_increment = 2\n",
    "else:\n",
    "    x_increment = 3\n",
    "    \n",
    "alien_0['x_position'] += x_increment # alien_0['x_position'] = alien_0['x_position'] + x_increment\n",
    "print(f\"New x-position: {alien_0['x_position']}\")"
   ]
  },
  {
   "cell_type": "code",
   "execution_count": 7,
   "id": "63d9e4df",
   "metadata": {},
   "outputs": [
    {
     "name": "stdout",
     "output_type": "stream",
     "text": [
      "{'color': 'green', 'points': 5}\n",
      "{'points': 5}\n",
      "{}\n"
     ]
    }
   ],
   "source": [
    "# Delete dict\n",
    "alien_0 = {'color':'green', 'points':5}\n",
    "print(alien_0)\n",
    "\n",
    "del alien_0['color']\n",
    "print(alien_0)\n",
    "\n",
    "del alien_0['points']\n",
    "print(alien_0)"
   ]
  },
  {
   "cell_type": "code",
   "execution_count": 8,
   "id": "6e4d49d0",
   "metadata": {},
   "outputs": [
    {
     "name": "stdout",
     "output_type": "stream",
     "text": [
      "No points value assigned.\n"
     ]
    }
   ],
   "source": [
    "# .get()\n",
    "alien_0 = {'color':'green', 'speed':'slow'}\n",
    "point_value = alien_0.get('points', 'No points value assigned.')\n",
    "print(point_value)"
   ]
  },
  {
   "cell_type": "code",
   "execution_count": 9,
   "id": "3788d6d9",
   "metadata": {},
   "outputs": [
    {
     "name": "stdout",
     "output_type": "stream",
     "text": [
      "None\n"
     ]
    }
   ],
   "source": [
    "alien_0 = {'color':'green', 'speed':'slow'}\n",
    "point_value = alien_0.get('points')\n",
    "print(point_value)"
   ]
  },
  {
   "cell_type": "code",
   "execution_count": 10,
   "id": "d16e8047",
   "metadata": {},
   "outputs": [
    {
     "name": "stdout",
     "output_type": "stream",
     "text": [
      "\n",
      "Key: username\n",
      "\tValue: YH\n",
      "\n",
      "Key: first\n",
      "\tValue: Han\n",
      "\n",
      "Key: last\n",
      "\tValue: Ynag\n"
     ]
    }
   ],
   "source": [
    "# .items() and .values()\n",
    "user_0 = {'username':'YH',\n",
    "          'first':'Han',\n",
    "          'last':'Ynag'}\n",
    "# use .items() to traverse dict\n",
    "for a,b in user_0.items():\n",
    "    print(f\"\\nKey: {a}\")\n",
    "    print(f\"\\tValue: {b}\")"
   ]
  },
  {
   "cell_type": "code",
   "execution_count": 11,
   "id": "bd030b79",
   "metadata": {},
   "outputs": [
    {
     "name": "stdout",
     "output_type": "stream",
     "text": [
      "username\n",
      "first\n",
      "last\n"
     ]
    }
   ],
   "source": [
    "for a in user_0.keys():\n",
    "    print(a)"
   ]
  },
  {
   "cell_type": "code",
   "execution_count": 12,
   "id": "62d5b896",
   "metadata": {},
   "outputs": [
    {
     "name": "stdout",
     "output_type": "stream",
     "text": [
      "YH\n",
      "Han\n",
      "Ynag\n"
     ]
    }
   ],
   "source": [
    "for a in user_0.values():\n",
    "    print(a)"
   ]
  },
  {
   "cell_type": "code",
   "execution_count": 13,
   "id": "2ac4600d",
   "metadata": {},
   "outputs": [
    {
     "name": "stdout",
     "output_type": "stream",
     "text": [
      "A, thanks for telling me what language you like!\n",
      "C, thanks for telling me what language you like!\n",
      "E, thanks for telling me what language you like!\n",
      "B, thanks for telling me what language you like!\n",
      "\n",
      "A, thanks for telling me what language you like!\n",
      "B, thanks for telling me what language you like!\n",
      "C, thanks for telling me what language you like!\n",
      "E, thanks for telling me what language you like!\n"
     ]
    }
   ],
   "source": [
    "favorite_languages = {\n",
    "    'a':'python',\n",
    "    'c':'c++',\n",
    "    'e':'ruby',\n",
    "    'b':'r'\n",
    "}\n",
    "\n",
    "for name in favorite_languages.keys():\n",
    "    print(f\"{name.title()}, thanks for telling me what language you like!\")\n",
    "\n",
    "print(\"\")\n",
    "# sorted() 临时排序\n",
    "for name in sorted(favorite_languages.keys()):\n",
    "    print(f\"{name.title()}, thanks for telling me what language you like!\")"
   ]
  },
  {
   "cell_type": "code",
   "execution_count": 14,
   "id": "e51c8a25",
   "metadata": {},
   "outputs": [
    {
     "name": "stdout",
     "output_type": "stream",
     "text": [
      "The following languages have been mentioned:\n",
      "\tPython\n",
      "\tC++\n",
      "\tRuby\n",
      "\tR\n",
      "\tPython\n"
     ]
    }
   ],
   "source": [
    "favorite_languages = {\n",
    "    'a':'python',\n",
    "    'c':'c++',\n",
    "    'e':'ruby',\n",
    "    'b':'r',\n",
    "    'x':'python'\n",
    "}\n",
    "\n",
    "print('The following languages have been mentioned:')\n",
    "for language in favorite_languages.values():\n",
    "    print('\\t{}'.format(language.title()))"
   ]
  },
  {
   "cell_type": "code",
   "execution_count": 15,
   "id": "a936384c",
   "metadata": {},
   "outputs": [
    {
     "name": "stdout",
     "output_type": "stream",
     "text": [
      "The following languages have been mentioned:\n",
      "\tC++\n",
      "\tPython\n",
      "\tR\n",
      "\tRuby\n"
     ]
    }
   ],
   "source": [
    "# set() -> only show each element once\n",
    "print('The following languages have been mentioned:')\n",
    "for language in sorted(set(favorite_languages.values())):\n",
    "    print('\\t{}'.format(language.title()))"
   ]
  },
  {
   "cell_type": "code",
   "execution_count": 16,
   "id": "d68eb3e4",
   "metadata": {},
   "outputs": [
    {
     "name": "stdout",
     "output_type": "stream",
     "text": [
      "{'color': 'green', 'points': 5}\n",
      "{'color': 'yellow', 'points': 10}\n",
      "{'color': 'red', 'points': 15}\n"
     ]
    }
   ],
   "source": [
    "# Dictionaries in List\n",
    "alien_0 = {'color':'green', 'points':5}\n",
    "alien_1 = {'color':'yellow', 'points':10}\n",
    "alien_2 = {'color':'red', 'points':15}\n",
    "\n",
    "aliens = [alien_0, alien_1, alien_2]\n",
    "\n",
    "for alien in aliens:\n",
    "    print(alien)"
   ]
  },
  {
   "cell_type": "code",
   "execution_count": 17,
   "id": "9cbe32c2",
   "metadata": {},
   "outputs": [
    {
     "name": "stdout",
     "output_type": "stream",
     "text": [
      "{'color': 'green', 'points': 5, 'speed': 'slow'}\n",
      "{'color': 'green', 'points': 5, 'speed': 'slow'}\n",
      "{'color': 'green', 'points': 5, 'speed': 'slow'}\n",
      "{'color': 'green', 'points': 5, 'speed': 'slow'}\n",
      "{'color': 'green', 'points': 5, 'speed': 'slow'}\n",
      "...\n",
      "Total number of aliens: 30\n"
     ]
    }
   ],
   "source": [
    "# Example\n",
    "aliens = []\n",
    "\n",
    "for alien_number in range(30):\n",
    "    new_alien = {'color':'green', 'points':5, 'speed':'slow'}\n",
    "    aliens.append(new_alien)\n",
    "\n",
    "for alien in aliens[:5]:\n",
    "    print(alien)\n",
    "\n",
    "print('...')\n",
    "\n",
    "print(f\"Total number of aliens: {len(aliens)}\")"
   ]
  },
  {
   "cell_type": "code",
   "execution_count": 18,
   "id": "7f9060ee",
   "metadata": {},
   "outputs": [
    {
     "name": "stdout",
     "output_type": "stream",
     "text": [
      "{'color': 'yellow', 'points': 10, 'speed': 'medium'}\n",
      "{'color': 'yellow', 'points': 10, 'speed': 'medium'}\n",
      "{'color': 'yellow', 'points': 10, 'speed': 'medium'}\n",
      "{'color': 'green', 'points': 5, 'speed': 'slow'}\n",
      "{'color': 'green', 'points': 5, 'speed': 'slow'}\n",
      "...\n",
      "Total number of aliens: 30\n"
     ]
    }
   ],
   "source": [
    "# Example\n",
    "aliens = []\n",
    "\n",
    "for alien_number in range(30):\n",
    "    new_alien = {'color':'green', 'points':5, 'speed':'slow'}\n",
    "    aliens.append(new_alien)\n",
    "\n",
    "for alien in aliens[:3]:\n",
    "    if alien['color'] == 'green':\n",
    "        alien['color'] = 'yellow'\n",
    "        alien['speed'] = 'medium'\n",
    "        alien['points'] = 10\n",
    "        \n",
    "for alien in aliens[:5]:\n",
    "    print(alien)\n",
    "\n",
    "print('...')\n",
    "\n",
    "print(f\"Total number of aliens: {len(aliens)}\")"
   ]
  },
  {
   "cell_type": "code",
   "execution_count": 19,
   "id": "8732f6b6",
   "metadata": {},
   "outputs": [
    {
     "name": "stdout",
     "output_type": "stream",
     "text": [
      "You ordered a thick-crust pizza with the following toppings:\n",
      "\tmushrooms\n",
      "\textra cheese\n"
     ]
    }
   ],
   "source": [
    "# List in Dictionaries\n",
    "pizza = {\n",
    "    'crust':'thick',\n",
    "    'toppings':['mushrooms', 'extra cheese'],\n",
    "}\n",
    "\n",
    "print(f\"You ordered a {pizza['crust']}-crust pizza with the following toppings:\")\n",
    "for topping in pizza['toppings']:\n",
    "    print(\"\\t\" + topping)"
   ]
  },
  {
   "cell_type": "code",
   "execution_count": 20,
   "id": "891aef2e",
   "metadata": {},
   "outputs": [
    {
     "name": "stdout",
     "output_type": "stream",
     "text": [
      "\n",
      "Jen's favorite languages are:\n",
      "\tPython\n",
      "\tRuby\n",
      "\n",
      "Sarah's favorite languages are:\n",
      "\tC\n",
      "\n",
      "Edward's favorite languages are:\n",
      "\tRuby\n",
      "\tGo\n",
      "\n",
      "Phil's favorite languages are:\n",
      "\tPython\n",
      "\tHaskell\n"
     ]
    }
   ],
   "source": [
    "favorite_languages = {\n",
    "    'jen':['python', 'ruby'],\n",
    "    'sarah':['c'],\n",
    "    'edward':['ruby', 'go'],\n",
    "    'phil':['python', 'haskell']\n",
    "}\n",
    "\n",
    "for name, languages in favorite_languages.items():\n",
    "    print(f\"\\n{name.title()}'s favorite languages are:\")\n",
    "    for language in languages:\n",
    "        print(f\"\\t{language.title()}\")"
   ]
  },
  {
   "cell_type": "code",
   "execution_count": 21,
   "id": "120cd804",
   "metadata": {},
   "outputs": [
    {
     "name": "stdout",
     "output_type": "stream",
     "text": [
      "\n",
      "Username: aeinstein\n",
      "\tFull name: Albert Einstein\n",
      "\tLocation: Princeton\n",
      "\n",
      "Username: mcurie\n",
      "\tFull name: Marie Curie\n",
      "\tLocation: Paris\n"
     ]
    }
   ],
   "source": [
    "# Dictionaries in Dictionaries\n",
    "users = {\n",
    "    'aeinstein':{\n",
    "        'first':'albert',\n",
    "        'last':'einstein',\n",
    "        'location':'princeton',\n",
    "    },\n",
    "    \n",
    "    'mcurie':{\n",
    "        'first':'marie',\n",
    "        'last':'curie',\n",
    "        'location':'paris',        \n",
    "    }\n",
    "}\n",
    "\n",
    "for username, user_info in users.items():\n",
    "    print(f\"\\nUsername: {username}\")\n",
    "    full_name = f\"{user_info['first'].title()} {user_info['last'].title()}\"\n",
    "    location = user_info['location'].title()\n",
    "    print(f\"\\tFull name: {full_name}\")\n",
    "    print(f\"\\tLocation: {location}\")"
   ]
  },
  {
   "cell_type": "markdown",
   "id": "97b1b0c3",
   "metadata": {},
   "source": [
    "## ch.7 用户输入和while循环"
   ]
  },
  {
   "cell_type": "code",
   "execution_count": 22,
   "id": "f4347ff3",
   "metadata": {},
   "outputs": [
    {
     "name": "stdout",
     "output_type": "stream",
     "text": [
      "Hi! What's your name? Please enter your name: daniel\n",
      "\n",
      " :D Good to see you! Daniel\n"
     ]
    }
   ],
   "source": [
    "# input( Prompt )\n",
    "name = input('Hi! What\\'s your name? Please enter your name: ')\n",
    "print(f'\\n :D Good to see you! {name.title()}')"
   ]
  },
  {
   "cell_type": "code",
   "execution_count": 24,
   "id": "5dbf446c",
   "metadata": {},
   "outputs": [
    {
     "name": "stdout",
     "output_type": "stream",
     "text": [
      "Which game do you want to play?\n",
      "Please enter the game's name: csgo\n",
      "\n",
      "Launching Csgo...\n"
     ]
    }
   ],
   "source": [
    "prompt = 'Which game do you want to play?'\n",
    "prompt += '\\nPlease enter the game\\'s name: '\n",
    "\n",
    "name = input(prompt)\n",
    "print(f'\\nLaunching {name.title()}...')"
   ]
  },
  {
   "cell_type": "code",
   "execution_count": 28,
   "id": "f44cc0b4",
   "metadata": {},
   "outputs": [
    {
     "name": "stdout",
     "output_type": "stream",
     "text": [
      "Hey, how old are you? 19\n",
      "OK, you are in.\n"
     ]
    }
   ],
   "source": [
    "# int()\n",
    "age = int(input('Hey, how old are you? '))\n",
    "# age = int(age)\n",
    "if age >= 18:\n",
    "    print('OK, you are in.')\n",
    "else:\n",
    "    print('Go away, kiddo.')"
   ]
  },
  {
   "cell_type": "code",
   "execution_count": 36,
   "id": "f476b8af",
   "metadata": {},
   "outputs": [
    {
     "name": "stdout",
     "output_type": "stream",
     "text": [
      "1\n",
      "0\n"
     ]
    }
   ],
   "source": [
    "# % Modulo Operation\n",
    "print(4 % 3)\n",
    "print(4 % 2)"
   ]
  },
  {
   "cell_type": "code",
   "execution_count": 35,
   "id": "9800bd1f",
   "metadata": {},
   "outputs": [
    {
     "name": "stdout",
     "output_type": "stream",
     "text": [
      "I'm gonna tell you if it is even or odd: 5\n",
      "Odd number!\n"
     ]
    }
   ],
   "source": [
    "num = input(\"I'm gonna tell you if it is even or odd: \")\n",
    "num = int(num)\n",
    "\n",
    "if num % 2 == 0:\n",
    "    print('Even number!')\n",
    "else:\n",
    "    print('Odd number!')"
   ]
  },
  {
   "cell_type": "code",
   "execution_count": 37,
   "id": "b585f204",
   "metadata": {},
   "outputs": [
    {
     "name": "stdout",
     "output_type": "stream",
     "text": [
      "1\n",
      "2\n",
      "3\n",
      "4\n",
      "5\n"
     ]
    }
   ],
   "source": [
    "# while loop\n",
    "num = 1\n",
    "while num <= 5:\n",
    "    print(num)\n",
    "    num += 1"
   ]
  },
  {
   "cell_type": "code",
   "execution_count": 43,
   "id": "f5791169",
   "metadata": {},
   "outputs": [
    {
     "name": "stdout",
     "output_type": "stream",
     "text": [
      "1\n",
      "2\n",
      "3\n",
      "4\n",
      "5\n"
     ]
    }
   ],
   "source": [
    "for i in range(1,6):\n",
    "    print(i)"
   ]
  },
  {
   "cell_type": "code",
   "execution_count": 44,
   "id": "47b02b3d",
   "metadata": {},
   "outputs": [
    {
     "name": "stdout",
     "output_type": "stream",
     "text": [
      "I'm gonna tell you if it is even or odd: 5\n",
      "Odd number!\n",
      "(Press Enter to quit.)\n",
      "I'm gonna tell you if it is even or odd: 4\n",
      "Even number!\n",
      "(Press Enter to quit.)\n",
      "I'm gonna tell you if it is even or odd: 3\n",
      "Odd number!\n",
      "(Press Enter to quit.)\n",
      "I'm gonna tell you if it is even or odd: 2\n",
      "Even number!\n",
      "(Press Enter to quit.)\n",
      "I'm gonna tell you if it is even or odd: 1\n",
      "Odd number!\n",
      "(Press Enter to quit.)\n",
      "I'm gonna tell you if it is even or odd: \n"
     ]
    }
   ],
   "source": [
    "num = input(\"I'm gonna tell you if it is even or odd: \")\n",
    "while num != '':\n",
    "    num = int(num)\n",
    "    if num % 2 == 0:\n",
    "        print('Even number!')\n",
    "    else:\n",
    "        print('Odd number!')\n",
    "    print('(Press Enter to quit.)')\n",
    "    num = input(\"I'm gonna tell you if it is even or odd: \")"
   ]
  },
  {
   "cell_type": "code",
   "execution_count": 49,
   "id": "d60bedbb",
   "metadata": {},
   "outputs": [
    {
     "name": "stdout",
     "output_type": "stream",
     "text": [
      "Please enter the name of a city you have visited: \n",
      "(Press enter when you are finished.)\n",
      "chongqing\n",
      "shanghai\n",
      "beijing\n",
      "wenzhou\n",
      "guangzhou\n",
      "\n",
      "WOW! You've visited there cities:\n",
      "Chongqing\n",
      "Shanghai\n",
      "Beijing\n",
      "Wenzhou\n",
      "Guangzhou\n"
     ]
    }
   ],
   "source": [
    "# break\n",
    "prompt = \"Please enter the name of a city you have visited: \"\n",
    "prompt += \"\\n(Press enter when you are finished.)\\n\"\n",
    "ct = input(prompt)\n",
    "cts = []\n",
    "cts.append(ct)\n",
    "while True:\n",
    "    ct = input()\n",
    "    \n",
    "    if ct == '':\n",
    "        print('WOW! You\\'ve visited there cities:')\n",
    "        for ctt in cts:\n",
    "            print(ctt.title())\n",
    "        break\n",
    "    else:\n",
    "        cts.append(ct)"
   ]
  },
  {
   "cell_type": "code",
   "execution_count": 50,
   "id": "b69d52f5",
   "metadata": {},
   "outputs": [
    {
     "name": "stdout",
     "output_type": "stream",
     "text": [
      "1\n",
      "3\n",
      "5\n",
      "7\n",
      "9\n"
     ]
    }
   ],
   "source": [
    "# continue\n",
    "num = 0\n",
    "while num < 10:\n",
    "    num += 1\n",
    "    if num % 2 ==0:\n",
    "        continue\n",
    "        # jump to the next step of the loop\n",
    "    print(num)\n",
    "\n",
    "# be careful of infinity loop!!!"
   ]
  },
  {
   "cell_type": "code",
   "execution_count": 52,
   "id": "3d905435",
   "metadata": {},
   "outputs": [
    {
     "name": "stdout",
     "output_type": "stream",
     "text": [
      "Verifying user: Candace\n",
      "Verifying user: Brian\n",
      "Verifying user: Alice\n",
      "\n",
      "The following user have been confirmed: \n",
      "Candace\n",
      "Brian\n",
      "Alice\n"
     ]
    }
   ],
   "source": [
    "unconfirmed_users = ['alice', 'brian', 'candace']\n",
    "confirmed_users = []\n",
    "# verifying each user until there is no unconfirmed user.\n",
    "#     move verified user to the list of confirmed users.\n",
    "while unconfirmed_users:\n",
    "    current_user = unconfirmed_users.pop()\n",
    "    \n",
    "    print(f\"Verifying user: {current_user.title()}\")\n",
    "    confirmed_users.append(current_user)\n",
    "\n",
    "# show the list of confirmed users\n",
    "print(\"\\nThe following user have been confirmed: \")\n",
    "for user in confirmed_users:\n",
    "    print(user.title())"
   ]
  },
  {
   "cell_type": "code",
   "execution_count": 61,
   "id": "42c72ebe",
   "metadata": {},
   "outputs": [
    {
     "name": "stdout",
     "output_type": "stream",
     "text": [
      "What's your name? daniel\n",
      "Which game are you going to purchase? (A.battlefield 2042, B.forza horizon 5 or C.monster hunter rise) A\n",
      "(Press enter to continue or Type q to quit.) \n",
      "What's your name? Han\n",
      "Which game are you going to purchase? (A.battlefield 2042, B.forza horizon 5 or C.monster hunter rise) b\n",
      "(Press enter to continue or Type q to quit.) \n",
      "What's your name? Yang\n",
      "Which game are you going to purchase? (A.battlefield 2042, B.forza horizon 5 or C.monster hunter rise) C\n",
      "(Press enter to continue or Type q to quit.) q\n",
      "\n",
      "\t--- Poll Results ---\n",
      "Daniel would like to buy battlefield 2042.\n",
      "Han would like to buy forza horizon 5.\n",
      "Yang would like to buy monster hunter rise.\n"
     ]
    }
   ],
   "source": [
    "# input & dict\n",
    "games = {}\n",
    "name = 'asd'\n",
    "while name != 'q':\n",
    "    name = input('What\\'s your name? ')\n",
    "    game = input('Which game are you going to purchase? (A.battlefield 2042, B.forza horizon 5 or C.monster hunter rise) ')\n",
    "    games[name] = game\n",
    "    name = input('(Press enter to continue or Type q to quit.) ')\n",
    "\n",
    "print('\\n\\t--- Poll Results ---')\n",
    "for name, game in games.items():\n",
    "    if game.lower() == 'a':\n",
    "        print(f'{name.title()} would like to buy battlefield 2042.')\n",
    "    elif game.lower() == 'b':\n",
    "        print(f'{name.title()} would like to buy forza horizon 5.')\n",
    "    else:\n",
    "        print(f'{name.title()} would like to buy monster hunter rise.')"
   ]
  }
 ],
 "metadata": {
  "kernelspec": {
   "display_name": "Python 3",
   "language": "python",
   "name": "python3"
  },
  "language_info": {
   "codemirror_mode": {
    "name": "ipython",
    "version": 3
   },
   "file_extension": ".py",
   "mimetype": "text/x-python",
   "name": "python",
   "nbconvert_exporter": "python",
   "pygments_lexer": "ipython3",
   "version": "3.7.2"
  }
 },
 "nbformat": 4,
 "nbformat_minor": 5
}
